{
 "cells": [
  {
   "cell_type": "code",
   "execution_count": 120,
   "metadata": {},
   "outputs": [],
   "source": [
    "import torch\n",
    "import torch.nn as nn\n",
    "import numpy as np\n",
    "from matplotlib import pyplot as plt\n",
    "from tqdm import tqdm"
   ]
  },
  {
   "cell_type": "code",
   "execution_count": 121,
   "metadata": {},
   "outputs": [],
   "source": [
    "def partial_derivitave(inputs, outputs):\n",
    "    return torch.autograd.grad(outputs, inputs, grad_outputs=torch.ones_like(outputs), create_graph=True)[0]\n",
    "\n",
    "def cooling_law(time, temperature_environment, temperature_start, COOLING_RATE):\n",
    "    return temperature_environment + (temperature_start - temperature_environment) * torch.exp(-COOLING_RATE * time)"
   ]
  },
  {
   "cell_type": "code",
   "execution_count": 122,
   "metadata": {},
   "outputs": [
    {
     "data": {
      "text/plain": [
       "Text(0, 0.5, 'Temperature (C)')"
      ]
     },
     "execution_count": 122,
     "metadata": {},
     "output_type": "execute_result"
    },
    {
     "data": {
      "image/png": "[encoded data removed]",
      "text/plain": [
       "<Figure size 432x288 with 1 Axes>"
      ]
     },
     "metadata": {
      "needs_background": "light"
     },
     "output_type": "display_data"
    }
   ],
   "source": [
    "ENVIRONMENT_TEMPERATURE = 25\n",
    "OBJECT_TEMPERATURE = 100\n",
    "COOLING_RATE = 0.005\n",
    "DEVICE = 'cuda' if torch.cuda.is_available() else 'cpu'\n",
    "EPOCHS = 30000\n",
    "LR = 1e-5\n",
    "\n",
    "time_samples = torch.linspace(start=0, end=1000, steps=1000)\n",
    "ground_truth_outputs = cooling_law(time=time_samples, temperature_environment=25, temperature_start=100, COOLING_RATE=0.005)\n",
    "\n",
    "training_time_samples = torch.linspace(0, 300, 10)\n",
    "training_outputs = cooling_law(training_time_samples, 25, 100, 0.005) + torch.randn(10) * 2\n",
    "\n",
    "plt.plot(time_samples, ground_truth_outputs)\n",
    "plt.plot(training_time_samples, training_outputs, 'o')\n",
    "plt.legend(['Equation', 'Training data'])\n",
    "plt.xlabel('Time (s)')\n",
    "plt.ylabel('Temperature (C)')"
   ]
  },
  {
   "cell_type": "code",
   "execution_count": 123,
   "metadata": {},
   "outputs": [],
   "source": [
    "class PINN(nn.Module):\n",
    "    def __init__(self):\n",
    "        super().__init__()\n",
    "        \n",
    "        self.cooling_rate = nn.Parameter(torch.tensor([0.]), requires_grad=True)\n",
    "        \n",
    "        self.model = nn.Sequential(\n",
    "            nn.Linear(1, 100),\n",
    "            nn.ReLU(),\n",
    "            nn.Linear(100, 100),\n",
    "            nn.ReLU(),\n",
    "            nn.Linear(100, 100),\n",
    "            nn.ReLU(),\n",
    "            nn.Linear(100, 100),\n",
    "            nn.ReLU(),\n",
    "            nn.Linear(100, 1),\n",
    "        )\n",
    "        \n",
    "    def forward(self, x):\n",
    "        return self.model(x)"
   ]
  },
  {
   "cell_type": "code",
   "execution_count": 124,
   "metadata": {},
   "outputs": [],
   "source": [
    "model = PINN().to(DEVICE)\n",
    "optimizer = torch.optim.Adam(model.parameters(), lr=LR)\n",
    "CRITERION = nn.MSELoss()"
   ]
  },
  {
   "cell_type": "code",
   "execution_count": 125,
   "metadata": {},
   "outputs": [],
   "source": [
    "def PINN_loss():\n",
    "    \n",
    "    time_samples = torch.linspace(0, 1000, 1000).view(-1, 1).requires_grad_(True).to(DEVICE)\n",
    "    temperature_model_predictions = model(time_samples)\n",
    "    dTemp_by_dtime = partial_derivitave(time_samples, temperature_model_predictions)\n",
    "    \n",
    "    difference = model.cooling_rate*(ENVIRONMENT_TEMPERATURE-temperature_model_predictions) - dTemp_by_dtime\n",
    "    mse = torch.mean(torch.square(difference))\n",
    "    \n",
    "    return mse"
   ]
  },
  {
   "cell_type": "code",
   "execution_count": 126,
   "metadata": {},
   "outputs": [
    {
     "name": "stdout",
     "output_type": "stream",
     "text": [
      "Epoch: 1000 | Loss: 2543.41357421875\n",
      "Epoch: 2000 | Loss: 2515.912841796875\n",
      "Epoch: 3000 | Loss: 2451.59716796875\n",
      "Epoch: 4000 | Loss: 2289.51123046875\n",
      "Epoch: 5000 | Loss: 1754.6480712890625\n",
      "Epoch: 6000 | Loss: 660.1830444335938\n",
      "Epoch: 7000 | Loss: 100.27503967285156\n",
      "Epoch: 8000 | Loss: 4.363009452819824\n",
      "Epoch: 9000 | Loss: 1.0109213590621948\n",
      "Epoch: 10000 | Loss: 0.8378696441650391\n",
      "Epoch: 11000 | Loss: 0.784832239151001\n",
      "Epoch: 12000 | Loss: 0.7509482502937317\n",
      "Epoch: 13000 | Loss: 0.7389003038406372\n",
      "Epoch: 14000 | Loss: 0.6614540815353394\n",
      "Epoch: 15000 | Loss: 0.6167863607406616\n",
      "Epoch: 16000 | Loss: 0.5788732767105103\n",
      "Epoch: 17000 | Loss: 0.5345380902290344\n",
      "Epoch: 18000 | Loss: 0.5109148621559143\n",
      "Epoch: 19000 | Loss: 0.4804869592189789\n",
      "Epoch: 20000 | Loss: 0.46834734082221985\n",
      "Epoch: 21000 | Loss: 0.43727928400039673\n",
      "Epoch: 22000 | Loss: 0.41838499903678894\n",
      "Epoch: 23000 | Loss: 0.4049507677555084\n",
      "Epoch: 24000 | Loss: 0.38719242811203003\n",
      "Epoch: 25000 | Loss: 0.4144760072231293\n",
      "Epoch: 26000 | Loss: 0.3627775013446808\n",
      "Epoch: 27000 | Loss: 0.34983885288238525\n",
      "Epoch: 28000 | Loss: 0.3391665518283844\n",
      "Epoch: 29000 | Loss: 0.3501019775867462\n",
      "Epoch: 30000 | Loss: 0.31285038590431213\n"
     ]
    }
   ],
   "source": [
    "training_time_samples = training_time_samples.view(-1, 1).to(DEVICE)\n",
    "training_outputs = training_outputs.view(-1, 1).to(DEVICE)\n",
    "\n",
    "for epoch in range(EPOCHS):\n",
    "    optimizer.zero_grad()\n",
    "    \n",
    "    outputs = model(training_time_samples)\n",
    "    loss_on_real_samples = CRITERION(outputs, training_outputs)\n",
    "    loss_on_PINN_loss = PINN_loss()\n",
    "    \n",
    "    loss = loss_on_real_samples + loss_on_PINN_loss\n",
    "    \n",
    "    loss.backward()\n",
    "    optimizer.step()\n",
    "    \n",
    "    if (epoch+1) % 1000 == 0:\n",
    "        print(f'Epoch: {epoch+1} | Loss: {loss.item()}')"
   ]
  },
  {
   "cell_type": "code",
   "execution_count": 128,
   "metadata": {},
   "outputs": [
    {
     "data": {
      "text/plain": [
       "Text(0, 0.5, 'Temperature (C)')"
      ]
     },
     "execution_count": 128,
     "metadata": {},
     "output_type": "execute_result"
    },
    {
     "data": {
      "image/png": "[encoded data removed]",
      "text/plain": [
       "<Figure size 432x288 with 1 Axes>"
      ]
     },
     "metadata": {
      "needs_background": "light"
     },
     "output_type": "display_data"
    }
   ],
   "source": [
    "plt.plot(time_samples, ground_truth_outputs)\n",
    "plt.plot(training_time_samples.cpu().detach(), training_outputs.cpu().detach(), 'o')\n",
    "plt.plot(time_samples, model(time_samples.view(-1, 1).to(DEVICE)).cpu().detach())\n",
    "plt.legend(['Equation', 'Training data', 'PINN'])\n",
    "plt.xlabel('Time (s)')\n",
    "plt.ylabel('Temperature (C)')"
   ]
  },
  {
   "cell_type": "code",
   "execution_count": 129,
   "metadata": {},
   "outputs": [
    {
     "name": "stdout",
     "output_type": "stream",
     "text": [
      "Parameter containing:\n",
      "tensor([0.0048], device='cuda:0', requires_grad=True)\n"
     ]
    }
   ],
   "source": [
    "print(model.cooling_rate)"
   ]
  }
 ],
 "metadata": {
  "kernelspec": {
   "display_name": "LLM",
   "language": "python",
   "name": "python3"
  },
  "language_info": {
   "codemirror_mode": {
    "name": "ipython",
    "version": 3
   },
   "file_extension": ".py",
   "mimetype": "text/x-python",
   "name": "python",
   "nbconvert_exporter": "python",
   "pygments_lexer": "ipython3",
   "version": "3.10.11"
  },
  "orig_nbformat": 4
 },
 "nbformat": 4,
 "nbformat_minor": 2
}
